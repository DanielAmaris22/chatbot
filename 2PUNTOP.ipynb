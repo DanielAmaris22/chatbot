{
 "cells": [
  {
   "cell_type": "code",
   "execution_count": 2,
   "id": "4e7ecf13-00fd-4a4d-ae22-95d638143505",
   "metadata": {},
   "outputs": [
    {
     "name": "stdout",
     "output_type": "stream",
     "text": [
      "Requirement already satisfied: langchain in c:\\users\\asus\\anaconda3\\envs\\my_env\\lib\\site-packages (0.3.8)\n",
      "Requirement already satisfied: PyYAML>=5.3 in c:\\users\\asus\\anaconda3\\envs\\my_env\\lib\\site-packages (from langchain) (6.0.1)\n",
      "Requirement already satisfied: SQLAlchemy<3,>=1.4 in c:\\users\\asus\\anaconda3\\envs\\my_env\\lib\\site-packages (from langchain) (2.0.34)\n",
      "Requirement already satisfied: aiohttp<4.0.0,>=3.8.3 in c:\\users\\asus\\anaconda3\\envs\\my_env\\lib\\site-packages (from langchain) (3.11.7)\n",
      "Requirement already satisfied: async-timeout<5.0.0,>=4.0.0 in c:\\users\\asus\\anaconda3\\envs\\my_env\\lib\\site-packages (from langchain) (4.0.3)\n",
      "Requirement already satisfied: langchain-core<0.4.0,>=0.3.21 in c:\\users\\asus\\anaconda3\\envs\\my_env\\lib\\site-packages (from langchain) (0.3.21)\n",
      "Requirement already satisfied: langchain-text-splitters<0.4.0,>=0.3.0 in c:\\users\\asus\\anaconda3\\envs\\my_env\\lib\\site-packages (from langchain) (0.3.2)\n",
      "Requirement already satisfied: langsmith<0.2.0,>=0.1.17 in c:\\users\\asus\\anaconda3\\envs\\my_env\\lib\\site-packages (from langchain) (0.1.145)\n",
      "Requirement already satisfied: numpy<2,>=1.22.4 in c:\\users\\asus\\anaconda3\\envs\\my_env\\lib\\site-packages (from langchain) (1.26.4)\n",
      "Requirement already satisfied: pydantic<3.0.0,>=2.7.4 in c:\\users\\asus\\anaconda3\\envs\\my_env\\lib\\site-packages (from langchain) (2.9.2)\n",
      "Requirement already satisfied: requests<3,>=2 in c:\\users\\asus\\anaconda3\\envs\\my_env\\lib\\site-packages (from langchain) (2.32.3)\n",
      "Requirement already satisfied: tenacity!=8.4.0,<10,>=8.1.0 in c:\\users\\asus\\anaconda3\\envs\\my_env\\lib\\site-packages (from langchain) (8.5.0)\n",
      "Requirement already satisfied: aiohappyeyeballs>=2.3.0 in c:\\users\\asus\\anaconda3\\envs\\my_env\\lib\\site-packages (from aiohttp<4.0.0,>=3.8.3->langchain) (2.4.3)\n",
      "Requirement already satisfied: aiosignal>=1.1.2 in c:\\users\\asus\\anaconda3\\envs\\my_env\\lib\\site-packages (from aiohttp<4.0.0,>=3.8.3->langchain) (1.3.1)\n",
      "Requirement already satisfied: attrs>=17.3.0 in c:\\users\\asus\\anaconda3\\envs\\my_env\\lib\\site-packages (from aiohttp<4.0.0,>=3.8.3->langchain) (23.1.0)\n",
      "Requirement already satisfied: frozenlist>=1.1.1 in c:\\users\\asus\\anaconda3\\envs\\my_env\\lib\\site-packages (from aiohttp<4.0.0,>=3.8.3->langchain) (1.5.0)\n",
      "Requirement already satisfied: multidict<7.0,>=4.5 in c:\\users\\asus\\anaconda3\\envs\\my_env\\lib\\site-packages (from aiohttp<4.0.0,>=3.8.3->langchain) (6.1.0)\n",
      "Requirement already satisfied: propcache>=0.2.0 in c:\\users\\asus\\anaconda3\\envs\\my_env\\lib\\site-packages (from aiohttp<4.0.0,>=3.8.3->langchain) (0.2.0)\n",
      "Requirement already satisfied: yarl<2.0,>=1.17.0 in c:\\users\\asus\\anaconda3\\envs\\my_env\\lib\\site-packages (from aiohttp<4.0.0,>=3.8.3->langchain) (1.18.0)\n",
      "Requirement already satisfied: jsonpatch<2.0,>=1.33 in c:\\users\\asus\\anaconda3\\envs\\my_env\\lib\\site-packages (from langchain-core<0.4.0,>=0.3.21->langchain) (1.33)\n",
      "Requirement already satisfied: packaging<25,>=23.2 in c:\\users\\asus\\anaconda3\\envs\\my_env\\lib\\site-packages (from langchain-core<0.4.0,>=0.3.21->langchain) (24.1)\n",
      "Requirement already satisfied: typing-extensions>=4.7 in c:\\users\\asus\\anaconda3\\envs\\my_env\\lib\\site-packages (from langchain-core<0.4.0,>=0.3.21->langchain) (4.12.2)\n",
      "Requirement already satisfied: httpx<1,>=0.23.0 in c:\\users\\asus\\anaconda3\\envs\\my_env\\lib\\site-packages (from langsmith<0.2.0,>=0.1.17->langchain) (0.27.2)\n",
      "Requirement already satisfied: orjson<4.0.0,>=3.9.14 in c:\\users\\asus\\anaconda3\\envs\\my_env\\lib\\site-packages (from langsmith<0.2.0,>=0.1.17->langchain) (3.10.7)\n",
      "Requirement already satisfied: requests-toolbelt<2.0.0,>=1.0.0 in c:\\users\\asus\\anaconda3\\envs\\my_env\\lib\\site-packages (from langsmith<0.2.0,>=0.1.17->langchain) (1.0.0)\n",
      "Requirement already satisfied: annotated-types>=0.6.0 in c:\\users\\asus\\anaconda3\\envs\\my_env\\lib\\site-packages (from pydantic<3.0.0,>=2.7.4->langchain) (0.7.0)\n",
      "Requirement already satisfied: pydantic-core==2.23.4 in c:\\users\\asus\\anaconda3\\envs\\my_env\\lib\\site-packages (from pydantic<3.0.0,>=2.7.4->langchain) (2.23.4)\n",
      "Requirement already satisfied: charset-normalizer<4,>=2 in c:\\users\\asus\\anaconda3\\envs\\my_env\\lib\\site-packages (from requests<3,>=2->langchain) (3.3.2)\n",
      "Requirement already satisfied: idna<4,>=2.5 in c:\\users\\asus\\anaconda3\\envs\\my_env\\lib\\site-packages (from requests<3,>=2->langchain) (3.7)\n",
      "Requirement already satisfied: urllib3<3,>=1.21.1 in c:\\users\\asus\\anaconda3\\envs\\my_env\\lib\\site-packages (from requests<3,>=2->langchain) (2.2.2)\n",
      "Requirement already satisfied: certifi>=2017.4.17 in c:\\users\\asus\\anaconda3\\envs\\my_env\\lib\\site-packages (from requests<3,>=2->langchain) (2024.7.4)\n",
      "Requirement already satisfied: greenlet!=0.4.17 in c:\\users\\asus\\anaconda3\\envs\\my_env\\lib\\site-packages (from SQLAlchemy<3,>=1.4->langchain) (3.0.3)\n",
      "Requirement already satisfied: anyio in c:\\users\\asus\\anaconda3\\envs\\my_env\\lib\\site-packages (from httpx<1,>=0.23.0->langsmith<0.2.0,>=0.1.17->langchain) (4.2.0)\n",
      "Requirement already satisfied: httpcore==1.* in c:\\users\\asus\\anaconda3\\envs\\my_env\\lib\\site-packages (from httpx<1,>=0.23.0->langsmith<0.2.0,>=0.1.17->langchain) (1.0.7)\n",
      "Requirement already satisfied: sniffio in c:\\users\\asus\\anaconda3\\envs\\my_env\\lib\\site-packages (from httpx<1,>=0.23.0->langsmith<0.2.0,>=0.1.17->langchain) (1.3.0)\n",
      "Requirement already satisfied: h11<0.15,>=0.13 in c:\\users\\asus\\anaconda3\\envs\\my_env\\lib\\site-packages (from httpcore==1.*->httpx<1,>=0.23.0->langsmith<0.2.0,>=0.1.17->langchain) (0.14.0)\n",
      "Requirement already satisfied: jsonpointer>=1.9 in c:\\users\\asus\\anaconda3\\envs\\my_env\\lib\\site-packages (from jsonpatch<2.0,>=1.33->langchain-core<0.4.0,>=0.3.21->langchain) (3.0.0)\n",
      "Requirement already satisfied: exceptiongroup>=1.0.2 in c:\\users\\asus\\anaconda3\\envs\\my_env\\lib\\site-packages (from anyio->httpx<1,>=0.23.0->langsmith<0.2.0,>=0.1.17->langchain) (1.2.0)\n"
     ]
    }
   ],
   "source": [
    "!pip install langchain"
   ]
  },
  {
   "cell_type": "code",
   "execution_count": 3,
   "id": "f50ba373-cb5d-417c-b8b3-f0d0b6c6be2f",
   "metadata": {},
   "outputs": [
    {
     "name": "stdout",
     "output_type": "stream",
     "text": [
      "Requirement already satisfied: openai in c:\\users\\asus\\anaconda3\\envs\\my_env\\lib\\site-packages (1.55.0)\n",
      "Requirement already satisfied: pypdf in c:\\users\\asus\\anaconda3\\envs\\my_env\\lib\\site-packages (5.1.0)\n",
      "Requirement already satisfied: anyio<5,>=3.5.0 in c:\\users\\asus\\anaconda3\\envs\\my_env\\lib\\site-packages (from openai) (4.2.0)\n",
      "Requirement already satisfied: distro<2,>=1.7.0 in c:\\users\\asus\\anaconda3\\envs\\my_env\\lib\\site-packages (from openai) (1.9.0)\n",
      "Requirement already satisfied: httpx<1,>=0.23.0 in c:\\users\\asus\\anaconda3\\envs\\my_env\\lib\\site-packages (from openai) (0.27.2)\n",
      "Requirement already satisfied: jiter<1,>=0.4.0 in c:\\users\\asus\\anaconda3\\envs\\my_env\\lib\\site-packages (from openai) (0.7.1)\n",
      "Requirement already satisfied: pydantic<3,>=1.9.0 in c:\\users\\asus\\anaconda3\\envs\\my_env\\lib\\site-packages (from openai) (2.9.2)\n",
      "Requirement already satisfied: sniffio in c:\\users\\asus\\anaconda3\\envs\\my_env\\lib\\site-packages (from openai) (1.3.0)\n",
      "Requirement already satisfied: tqdm>4 in c:\\users\\asus\\anaconda3\\envs\\my_env\\lib\\site-packages (from openai) (4.66.5)\n",
      "Requirement already satisfied: typing-extensions<5,>=4.11 in c:\\users\\asus\\anaconda3\\envs\\my_env\\lib\\site-packages (from openai) (4.12.2)\n",
      "Requirement already satisfied: idna>=2.8 in c:\\users\\asus\\anaconda3\\envs\\my_env\\lib\\site-packages (from anyio<5,>=3.5.0->openai) (3.7)\n",
      "Requirement already satisfied: exceptiongroup>=1.0.2 in c:\\users\\asus\\anaconda3\\envs\\my_env\\lib\\site-packages (from anyio<5,>=3.5.0->openai) (1.2.0)\n",
      "Requirement already satisfied: certifi in c:\\users\\asus\\anaconda3\\envs\\my_env\\lib\\site-packages (from httpx<1,>=0.23.0->openai) (2024.7.4)\n",
      "Requirement already satisfied: httpcore==1.* in c:\\users\\asus\\anaconda3\\envs\\my_env\\lib\\site-packages (from httpx<1,>=0.23.0->openai) (1.0.7)\n",
      "Requirement already satisfied: h11<0.15,>=0.13 in c:\\users\\asus\\anaconda3\\envs\\my_env\\lib\\site-packages (from httpcore==1.*->httpx<1,>=0.23.0->openai) (0.14.0)\n",
      "Requirement already satisfied: annotated-types>=0.6.0 in c:\\users\\asus\\anaconda3\\envs\\my_env\\lib\\site-packages (from pydantic<3,>=1.9.0->openai) (0.7.0)\n",
      "Requirement already satisfied: pydantic-core==2.23.4 in c:\\users\\asus\\anaconda3\\envs\\my_env\\lib\\site-packages (from pydantic<3,>=1.9.0->openai) (2.23.4)\n",
      "Requirement already satisfied: colorama in c:\\users\\asus\\anaconda3\\envs\\my_env\\lib\\site-packages (from tqdm>4->openai) (0.4.6)\n"
     ]
    }
   ],
   "source": [
    "!pip install openai pypdf"
   ]
  },
  {
   "cell_type": "code",
   "execution_count": 4,
   "id": "65580c1d-d311-423a-9ebe-29100a5a8028",
   "metadata": {},
   "outputs": [
    {
     "name": "stdout",
     "output_type": "stream",
     "text": [
      "Requirement already satisfied: typing_extensions in c:\\users\\asus\\anaconda3\\envs\\my_env\\lib\\site-packages (4.12.2)\n",
      "Requirement already satisfied: openai in c:\\users\\asus\\anaconda3\\envs\\my_env\\lib\\site-packages (1.55.0)\n",
      "Requirement already satisfied: anyio<5,>=3.5.0 in c:\\users\\asus\\anaconda3\\envs\\my_env\\lib\\site-packages (from openai) (4.2.0)\n",
      "Requirement already satisfied: distro<2,>=1.7.0 in c:\\users\\asus\\anaconda3\\envs\\my_env\\lib\\site-packages (from openai) (1.9.0)\n",
      "Requirement already satisfied: httpx<1,>=0.23.0 in c:\\users\\asus\\anaconda3\\envs\\my_env\\lib\\site-packages (from openai) (0.27.2)\n",
      "Requirement already satisfied: jiter<1,>=0.4.0 in c:\\users\\asus\\anaconda3\\envs\\my_env\\lib\\site-packages (from openai) (0.7.1)\n",
      "Requirement already satisfied: pydantic<3,>=1.9.0 in c:\\users\\asus\\anaconda3\\envs\\my_env\\lib\\site-packages (from openai) (2.9.2)\n",
      "Requirement already satisfied: sniffio in c:\\users\\asus\\anaconda3\\envs\\my_env\\lib\\site-packages (from openai) (1.3.0)\n",
      "Requirement already satisfied: tqdm>4 in c:\\users\\asus\\anaconda3\\envs\\my_env\\lib\\site-packages (from openai) (4.66.5)\n",
      "Requirement already satisfied: typing-extensions<5,>=4.11 in c:\\users\\asus\\anaconda3\\envs\\my_env\\lib\\site-packages (from openai) (4.12.2)\n",
      "Requirement already satisfied: idna>=2.8 in c:\\users\\asus\\anaconda3\\envs\\my_env\\lib\\site-packages (from anyio<5,>=3.5.0->openai) (3.7)\n",
      "Requirement already satisfied: exceptiongroup>=1.0.2 in c:\\users\\asus\\anaconda3\\envs\\my_env\\lib\\site-packages (from anyio<5,>=3.5.0->openai) (1.2.0)\n",
      "Requirement already satisfied: certifi in c:\\users\\asus\\anaconda3\\envs\\my_env\\lib\\site-packages (from httpx<1,>=0.23.0->openai) (2024.7.4)\n",
      "Requirement already satisfied: httpcore==1.* in c:\\users\\asus\\anaconda3\\envs\\my_env\\lib\\site-packages (from httpx<1,>=0.23.0->openai) (1.0.7)\n",
      "Requirement already satisfied: h11<0.15,>=0.13 in c:\\users\\asus\\anaconda3\\envs\\my_env\\lib\\site-packages (from httpcore==1.*->httpx<1,>=0.23.0->openai) (0.14.0)\n",
      "Requirement already satisfied: annotated-types>=0.6.0 in c:\\users\\asus\\anaconda3\\envs\\my_env\\lib\\site-packages (from pydantic<3,>=1.9.0->openai) (0.7.0)\n",
      "Requirement already satisfied: pydantic-core==2.23.4 in c:\\users\\asus\\anaconda3\\envs\\my_env\\lib\\site-packages (from pydantic<3,>=1.9.0->openai) (2.23.4)\n",
      "Requirement already satisfied: colorama in c:\\users\\asus\\anaconda3\\envs\\my_env\\lib\\site-packages (from tqdm>4->openai) (0.4.6)\n",
      "Requirement already satisfied: pypdf in c:\\users\\asus\\anaconda3\\envs\\my_env\\lib\\site-packages (5.1.0)\n",
      "Requirement already satisfied: typing_extensions>=4.0 in c:\\users\\asus\\anaconda3\\envs\\my_env\\lib\\site-packages (from pypdf) (4.12.2)\n",
      "Requirement already satisfied: langchain in c:\\users\\asus\\anaconda3\\envs\\my_env\\lib\\site-packages (0.3.8)\n",
      "Requirement already satisfied: PyYAML>=5.3 in c:\\users\\asus\\anaconda3\\envs\\my_env\\lib\\site-packages (from langchain) (6.0.1)\n",
      "Requirement already satisfied: SQLAlchemy<3,>=1.4 in c:\\users\\asus\\anaconda3\\envs\\my_env\\lib\\site-packages (from langchain) (2.0.34)\n",
      "Requirement already satisfied: aiohttp<4.0.0,>=3.8.3 in c:\\users\\asus\\anaconda3\\envs\\my_env\\lib\\site-packages (from langchain) (3.11.7)\n",
      "Requirement already satisfied: async-timeout<5.0.0,>=4.0.0 in c:\\users\\asus\\anaconda3\\envs\\my_env\\lib\\site-packages (from langchain) (4.0.3)\n",
      "Requirement already satisfied: langchain-core<0.4.0,>=0.3.21 in c:\\users\\asus\\anaconda3\\envs\\my_env\\lib\\site-packages (from langchain) (0.3.21)\n",
      "Requirement already satisfied: langchain-text-splitters<0.4.0,>=0.3.0 in c:\\users\\asus\\anaconda3\\envs\\my_env\\lib\\site-packages (from langchain) (0.3.2)\n",
      "Requirement already satisfied: langsmith<0.2.0,>=0.1.17 in c:\\users\\asus\\anaconda3\\envs\\my_env\\lib\\site-packages (from langchain) (0.1.145)\n",
      "Requirement already satisfied: numpy<2,>=1.22.4 in c:\\users\\asus\\anaconda3\\envs\\my_env\\lib\\site-packages (from langchain) (1.26.4)\n",
      "Requirement already satisfied: pydantic<3.0.0,>=2.7.4 in c:\\users\\asus\\anaconda3\\envs\\my_env\\lib\\site-packages (from langchain) (2.9.2)\n",
      "Requirement already satisfied: requests<3,>=2 in c:\\users\\asus\\anaconda3\\envs\\my_env\\lib\\site-packages (from langchain) (2.32.3)\n",
      "Requirement already satisfied: tenacity!=8.4.0,<10,>=8.1.0 in c:\\users\\asus\\anaconda3\\envs\\my_env\\lib\\site-packages (from langchain) (8.5.0)\n",
      "Requirement already satisfied: aiohappyeyeballs>=2.3.0 in c:\\users\\asus\\anaconda3\\envs\\my_env\\lib\\site-packages (from aiohttp<4.0.0,>=3.8.3->langchain) (2.4.3)\n",
      "Requirement already satisfied: aiosignal>=1.1.2 in c:\\users\\asus\\anaconda3\\envs\\my_env\\lib\\site-packages (from aiohttp<4.0.0,>=3.8.3->langchain) (1.3.1)\n",
      "Requirement already satisfied: attrs>=17.3.0 in c:\\users\\asus\\anaconda3\\envs\\my_env\\lib\\site-packages (from aiohttp<4.0.0,>=3.8.3->langchain) (23.1.0)\n",
      "Requirement already satisfied: frozenlist>=1.1.1 in c:\\users\\asus\\anaconda3\\envs\\my_env\\lib\\site-packages (from aiohttp<4.0.0,>=3.8.3->langchain) (1.5.0)\n",
      "Requirement already satisfied: multidict<7.0,>=4.5 in c:\\users\\asus\\anaconda3\\envs\\my_env\\lib\\site-packages (from aiohttp<4.0.0,>=3.8.3->langchain) (6.1.0)\n",
      "Requirement already satisfied: propcache>=0.2.0 in c:\\users\\asus\\anaconda3\\envs\\my_env\\lib\\site-packages (from aiohttp<4.0.0,>=3.8.3->langchain) (0.2.0)\n",
      "Requirement already satisfied: yarl<2.0,>=1.17.0 in c:\\users\\asus\\anaconda3\\envs\\my_env\\lib\\site-packages (from aiohttp<4.0.0,>=3.8.3->langchain) (1.18.0)\n",
      "Requirement already satisfied: jsonpatch<2.0,>=1.33 in c:\\users\\asus\\anaconda3\\envs\\my_env\\lib\\site-packages (from langchain-core<0.4.0,>=0.3.21->langchain) (1.33)\n",
      "Requirement already satisfied: packaging<25,>=23.2 in c:\\users\\asus\\anaconda3\\envs\\my_env\\lib\\site-packages (from langchain-core<0.4.0,>=0.3.21->langchain) (24.1)\n",
      "Requirement already satisfied: typing-extensions>=4.7 in c:\\users\\asus\\anaconda3\\envs\\my_env\\lib\\site-packages (from langchain-core<0.4.0,>=0.3.21->langchain) (4.12.2)\n",
      "Requirement already satisfied: httpx<1,>=0.23.0 in c:\\users\\asus\\anaconda3\\envs\\my_env\\lib\\site-packages (from langsmith<0.2.0,>=0.1.17->langchain) (0.27.2)\n",
      "Requirement already satisfied: orjson<4.0.0,>=3.9.14 in c:\\users\\asus\\anaconda3\\envs\\my_env\\lib\\site-packages (from langsmith<0.2.0,>=0.1.17->langchain) (3.10.7)\n",
      "Requirement already satisfied: requests-toolbelt<2.0.0,>=1.0.0 in c:\\users\\asus\\anaconda3\\envs\\my_env\\lib\\site-packages (from langsmith<0.2.0,>=0.1.17->langchain) (1.0.0)\n",
      "Requirement already satisfied: annotated-types>=0.6.0 in c:\\users\\asus\\anaconda3\\envs\\my_env\\lib\\site-packages (from pydantic<3.0.0,>=2.7.4->langchain) (0.7.0)\n",
      "Requirement already satisfied: pydantic-core==2.23.4 in c:\\users\\asus\\anaconda3\\envs\\my_env\\lib\\site-packages (from pydantic<3.0.0,>=2.7.4->langchain) (2.23.4)\n",
      "Requirement already satisfied: charset-normalizer<4,>=2 in c:\\users\\asus\\anaconda3\\envs\\my_env\\lib\\site-packages (from requests<3,>=2->langchain) (3.3.2)\n",
      "Requirement already satisfied: idna<4,>=2.5 in c:\\users\\asus\\anaconda3\\envs\\my_env\\lib\\site-packages (from requests<3,>=2->langchain) (3.7)\n",
      "Requirement already satisfied: urllib3<3,>=1.21.1 in c:\\users\\asus\\anaconda3\\envs\\my_env\\lib\\site-packages (from requests<3,>=2->langchain) (2.2.2)\n",
      "Requirement already satisfied: certifi>=2017.4.17 in c:\\users\\asus\\anaconda3\\envs\\my_env\\lib\\site-packages (from requests<3,>=2->langchain) (2024.7.4)\n",
      "Requirement already satisfied: greenlet!=0.4.17 in c:\\users\\asus\\anaconda3\\envs\\my_env\\lib\\site-packages (from SQLAlchemy<3,>=1.4->langchain) (3.0.3)\n",
      "Requirement already satisfied: anyio in c:\\users\\asus\\anaconda3\\envs\\my_env\\lib\\site-packages (from httpx<1,>=0.23.0->langsmith<0.2.0,>=0.1.17->langchain) (4.2.0)\n",
      "Requirement already satisfied: httpcore==1.* in c:\\users\\asus\\anaconda3\\envs\\my_env\\lib\\site-packages (from httpx<1,>=0.23.0->langsmith<0.2.0,>=0.1.17->langchain) (1.0.7)\n",
      "Requirement already satisfied: sniffio in c:\\users\\asus\\anaconda3\\envs\\my_env\\lib\\site-packages (from httpx<1,>=0.23.0->langsmith<0.2.0,>=0.1.17->langchain) (1.3.0)\n",
      "Requirement already satisfied: h11<0.15,>=0.13 in c:\\users\\asus\\anaconda3\\envs\\my_env\\lib\\site-packages (from httpcore==1.*->httpx<1,>=0.23.0->langsmith<0.2.0,>=0.1.17->langchain) (0.14.0)\n",
      "Requirement already satisfied: jsonpointer>=1.9 in c:\\users\\asus\\anaconda3\\envs\\my_env\\lib\\site-packages (from jsonpatch<2.0,>=1.33->langchain-core<0.4.0,>=0.3.21->langchain) (3.0.0)\n",
      "Requirement already satisfied: exceptiongroup>=1.0.2 in c:\\users\\asus\\anaconda3\\envs\\my_env\\lib\\site-packages (from anyio->httpx<1,>=0.23.0->langsmith<0.2.0,>=0.1.17->langchain) (1.2.0)\n"
     ]
    }
   ],
   "source": [
    "!pip install --upgrade typing_extensions\n",
    "!pip install openai\n",
    "!pip install pypdf\n",
    "!pip install langchain"
   ]
  },
  {
   "cell_type": "code",
   "execution_count": 5,
   "id": "1aeffee7-f7d1-4673-8fd9-87964ce41620",
   "metadata": {},
   "outputs": [
    {
     "name": "stdout",
     "output_type": "stream",
     "text": [
      "Requirement already satisfied: langchain-community in c:\\users\\asus\\anaconda3\\envs\\my_env\\lib\\site-packages (0.3.8)Note: you may need to restart the kernel to use updated packages.\n",
      "\n",
      "Requirement already satisfied: PyYAML>=5.3 in c:\\users\\asus\\anaconda3\\envs\\my_env\\lib\\site-packages (from langchain-community) (6.0.1)\n",
      "Requirement already satisfied: SQLAlchemy<2.0.36,>=1.4 in c:\\users\\asus\\anaconda3\\envs\\my_env\\lib\\site-packages (from langchain-community) (2.0.34)\n",
      "Requirement already satisfied: aiohttp<4.0.0,>=3.8.3 in c:\\users\\asus\\anaconda3\\envs\\my_env\\lib\\site-packages (from langchain-community) (3.11.7)\n",
      "Requirement already satisfied: dataclasses-json<0.7,>=0.5.7 in c:\\users\\asus\\anaconda3\\envs\\my_env\\lib\\site-packages (from langchain-community) (0.6.7)\n",
      "Requirement already satisfied: httpx-sse<0.5.0,>=0.4.0 in c:\\users\\asus\\anaconda3\\envs\\my_env\\lib\\site-packages (from langchain-community) (0.4.0)\n",
      "Requirement already satisfied: langchain<0.4.0,>=0.3.8 in c:\\users\\asus\\anaconda3\\envs\\my_env\\lib\\site-packages (from langchain-community) (0.3.8)\n",
      "Requirement already satisfied: langchain-core<0.4.0,>=0.3.21 in c:\\users\\asus\\anaconda3\\envs\\my_env\\lib\\site-packages (from langchain-community) (0.3.21)\n",
      "Requirement already satisfied: langsmith<0.2.0,>=0.1.125 in c:\\users\\asus\\anaconda3\\envs\\my_env\\lib\\site-packages (from langchain-community) (0.1.145)\n",
      "Requirement already satisfied: numpy<2,>=1.22.4 in c:\\users\\asus\\anaconda3\\envs\\my_env\\lib\\site-packages (from langchain-community) (1.26.4)\n",
      "Requirement already satisfied: pydantic-settings<3.0.0,>=2.4.0 in c:\\users\\asus\\anaconda3\\envs\\my_env\\lib\\site-packages (from langchain-community) (2.6.1)\n",
      "Requirement already satisfied: requests<3,>=2 in c:\\users\\asus\\anaconda3\\envs\\my_env\\lib\\site-packages (from langchain-community) (2.32.3)\n",
      "Requirement already satisfied: tenacity!=8.4.0,<10,>=8.1.0 in c:\\users\\asus\\anaconda3\\envs\\my_env\\lib\\site-packages (from langchain-community) (8.5.0)\n",
      "Requirement already satisfied: aiohappyeyeballs>=2.3.0 in c:\\users\\asus\\anaconda3\\envs\\my_env\\lib\\site-packages (from aiohttp<4.0.0,>=3.8.3->langchain-community) (2.4.3)\n",
      "Requirement already satisfied: aiosignal>=1.1.2 in c:\\users\\asus\\anaconda3\\envs\\my_env\\lib\\site-packages (from aiohttp<4.0.0,>=3.8.3->langchain-community) (1.3.1)\n",
      "Requirement already satisfied: async-timeout<6.0,>=4.0 in c:\\users\\asus\\anaconda3\\envs\\my_env\\lib\\site-packages (from aiohttp<4.0.0,>=3.8.3->langchain-community) (4.0.3)\n",
      "Requirement already satisfied: attrs>=17.3.0 in c:\\users\\asus\\anaconda3\\envs\\my_env\\lib\\site-packages (from aiohttp<4.0.0,>=3.8.3->langchain-community) (23.1.0)\n",
      "Requirement already satisfied: frozenlist>=1.1.1 in c:\\users\\asus\\anaconda3\\envs\\my_env\\lib\\site-packages (from aiohttp<4.0.0,>=3.8.3->langchain-community) (1.5.0)\n",
      "Requirement already satisfied: multidict<7.0,>=4.5 in c:\\users\\asus\\anaconda3\\envs\\my_env\\lib\\site-packages (from aiohttp<4.0.0,>=3.8.3->langchain-community) (6.1.0)\n",
      "Requirement already satisfied: propcache>=0.2.0 in c:\\users\\asus\\anaconda3\\envs\\my_env\\lib\\site-packages (from aiohttp<4.0.0,>=3.8.3->langchain-community) (0.2.0)\n",
      "Requirement already satisfied: yarl<2.0,>=1.17.0 in c:\\users\\asus\\anaconda3\\envs\\my_env\\lib\\site-packages (from aiohttp<4.0.0,>=3.8.3->langchain-community) (1.18.0)\n",
      "Requirement already satisfied: marshmallow<4.0.0,>=3.18.0 in c:\\users\\asus\\anaconda3\\envs\\my_env\\lib\\site-packages (from dataclasses-json<0.7,>=0.5.7->langchain-community) (3.23.1)\n",
      "Requirement already satisfied: typing-inspect<1,>=0.4.0 in c:\\users\\asus\\anaconda3\\envs\\my_env\\lib\\site-packages (from dataclasses-json<0.7,>=0.5.7->langchain-community) (0.9.0)\n",
      "Requirement already satisfied: langchain-text-splitters<0.4.0,>=0.3.0 in c:\\users\\asus\\anaconda3\\envs\\my_env\\lib\\site-packages (from langchain<0.4.0,>=0.3.8->langchain-community) (0.3.2)\n",
      "Requirement already satisfied: pydantic<3.0.0,>=2.7.4 in c:\\users\\asus\\anaconda3\\envs\\my_env\\lib\\site-packages (from langchain<0.4.0,>=0.3.8->langchain-community) (2.9.2)\n",
      "Requirement already satisfied: jsonpatch<2.0,>=1.33 in c:\\users\\asus\\anaconda3\\envs\\my_env\\lib\\site-packages (from langchain-core<0.4.0,>=0.3.21->langchain-community) (1.33)\n",
      "Requirement already satisfied: packaging<25,>=23.2 in c:\\users\\asus\\anaconda3\\envs\\my_env\\lib\\site-packages (from langchain-core<0.4.0,>=0.3.21->langchain-community) (24.1)\n",
      "Requirement already satisfied: typing-extensions>=4.7 in c:\\users\\asus\\anaconda3\\envs\\my_env\\lib\\site-packages (from langchain-core<0.4.0,>=0.3.21->langchain-community) (4.12.2)\n",
      "Requirement already satisfied: httpx<1,>=0.23.0 in c:\\users\\asus\\anaconda3\\envs\\my_env\\lib\\site-packages (from langsmith<0.2.0,>=0.1.125->langchain-community) (0.27.2)\n",
      "Requirement already satisfied: orjson<4.0.0,>=3.9.14 in c:\\users\\asus\\anaconda3\\envs\\my_env\\lib\\site-packages (from langsmith<0.2.0,>=0.1.125->langchain-community) (3.10.7)\n",
      "Requirement already satisfied: requests-toolbelt<2.0.0,>=1.0.0 in c:\\users\\asus\\anaconda3\\envs\\my_env\\lib\\site-packages (from langsmith<0.2.0,>=0.1.125->langchain-community) (1.0.0)\n",
      "Requirement already satisfied: python-dotenv>=0.21.0 in c:\\users\\asus\\anaconda3\\envs\\my_env\\lib\\site-packages (from pydantic-settings<3.0.0,>=2.4.0->langchain-community) (1.0.1)\n",
      "Requirement already satisfied: charset-normalizer<4,>=2 in c:\\users\\asus\\anaconda3\\envs\\my_env\\lib\\site-packages (from requests<3,>=2->langchain-community) (3.3.2)\n",
      "Requirement already satisfied: idna<4,>=2.5 in c:\\users\\asus\\anaconda3\\envs\\my_env\\lib\\site-packages (from requests<3,>=2->langchain-community) (3.7)\n",
      "Requirement already satisfied: urllib3<3,>=1.21.1 in c:\\users\\asus\\anaconda3\\envs\\my_env\\lib\\site-packages (from requests<3,>=2->langchain-community) (2.2.2)\n",
      "Requirement already satisfied: certifi>=2017.4.17 in c:\\users\\asus\\anaconda3\\envs\\my_env\\lib\\site-packages (from requests<3,>=2->langchain-community) (2024.7.4)\n",
      "Requirement already satisfied: greenlet!=0.4.17 in c:\\users\\asus\\anaconda3\\envs\\my_env\\lib\\site-packages (from SQLAlchemy<2.0.36,>=1.4->langchain-community) (3.0.3)\n",
      "Requirement already satisfied: anyio in c:\\users\\asus\\anaconda3\\envs\\my_env\\lib\\site-packages (from httpx<1,>=0.23.0->langsmith<0.2.0,>=0.1.125->langchain-community) (4.2.0)\n",
      "Requirement already satisfied: httpcore==1.* in c:\\users\\asus\\anaconda3\\envs\\my_env\\lib\\site-packages (from httpx<1,>=0.23.0->langsmith<0.2.0,>=0.1.125->langchain-community) (1.0.7)\n",
      "Requirement already satisfied: sniffio in c:\\users\\asus\\anaconda3\\envs\\my_env\\lib\\site-packages (from httpx<1,>=0.23.0->langsmith<0.2.0,>=0.1.125->langchain-community) (1.3.0)\n",
      "Requirement already satisfied: h11<0.15,>=0.13 in c:\\users\\asus\\anaconda3\\envs\\my_env\\lib\\site-packages (from httpcore==1.*->httpx<1,>=0.23.0->langsmith<0.2.0,>=0.1.125->langchain-community) (0.14.0)\n",
      "Requirement already satisfied: jsonpointer>=1.9 in c:\\users\\asus\\anaconda3\\envs\\my_env\\lib\\site-packages (from jsonpatch<2.0,>=1.33->langchain-core<0.4.0,>=0.3.21->langchain-community) (3.0.0)\n",
      "Requirement already satisfied: annotated-types>=0.6.0 in c:\\users\\asus\\anaconda3\\envs\\my_env\\lib\\site-packages (from pydantic<3.0.0,>=2.7.4->langchain<0.4.0,>=0.3.8->langchain-community) (0.7.0)\n",
      "Requirement already satisfied: pydantic-core==2.23.4 in c:\\users\\asus\\anaconda3\\envs\\my_env\\lib\\site-packages (from pydantic<3.0.0,>=2.7.4->langchain<0.4.0,>=0.3.8->langchain-community) (2.23.4)\n",
      "Requirement already satisfied: mypy-extensions>=0.3.0 in c:\\users\\asus\\anaconda3\\envs\\my_env\\lib\\site-packages (from typing-inspect<1,>=0.4.0->dataclasses-json<0.7,>=0.5.7->langchain-community) (1.0.0)\n",
      "Requirement already satisfied: exceptiongroup>=1.0.2 in c:\\users\\asus\\anaconda3\\envs\\my_env\\lib\\site-packages (from anyio->httpx<1,>=0.23.0->langsmith<0.2.0,>=0.1.125->langchain-community) (1.2.0)\n"
     ]
    }
   ],
   "source": [
    "pip install -U langchain-community"
   ]
  },
  {
   "cell_type": "markdown",
   "id": "530d1e3e",
   "metadata": {},
   "source": [
    "## VECTOR STORE"
   ]
  },
  {
   "cell_type": "code",
   "execution_count": 6,
   "id": "e2fea67d",
   "metadata": {},
   "outputs": [],
   "source": [
    "from langchain.document_loaders import PyPDFLoader\n",
    "from langchain.text_splitter import RecursiveCharacterTextSplitter\n",
    "import pandas as pd\n",
    "\n",
    "# Cargar el documento PDF\n",
    "loader = PyPDFLoader(\"llm_doc.pdf\")\n",
    "documents = loader.load()\n",
    "\n",
    "# Dividir el contenido en chunks\n",
    "text_splitter = RecursiveCharacterTextSplitter(chunk_size=1000, chunk_overlap=100)\n",
    "doc_splits = text_splitter.split_documents(documents)\n",
    "\n",
    "# Crear un DataFrame para almacenar los chunks y metadatos\n",
    "data = [{'Chunks': doc.page_content, 'Metadata': doc.metadata} for doc in doc_splits]\n",
    "df_vector_store = pd.DataFrame(data)\n"
   ]
  },
  {
   "cell_type": "markdown",
   "id": "254896e6",
   "metadata": {},
   "source": [
    "## CREACIÓN DE PREGUNTAS Y RESPUESTAS"
   ]
  },
  {
   "cell_type": "code",
   "execution_count": 7,
   "id": "e341faff-b96a-46bf-b7c9-ff3be15f55f1",
   "metadata": {},
   "outputs": [
    {
     "name": "stdout",
     "output_type": "stream",
     "text": [
      "Archivo 'preguntas_respuestas.xlsx' generado con éxito.\n"
     ]
    }
   ],
   "source": [
    "import pandas as pd\n",
    "\n",
    "# Preguntas y respuestas propuestas basadas en el contenido de llm_doc.pdf\n",
    "questions_answers = {\n",
    "    \"Pregunta\": [\n",
    "        \"¿Qué son los LLMs?\",\n",
    "        \"¿Qué es LLMOps?\",\n",
    "        \"¿Por qué usar modelos preentrenados?\",\n",
    "        \"¿Qué retos enfrenta el uso de LLMs?\",\n",
    "        \"¿Qué es el aprendizaje cero disparos (ZSL)?\",\n",
    "        \"¿Cuál es la ventaja del ajuste eficiente de parámetros?\",\n",
    "        \"¿Qué evalúa el puntaje METEOR?\",\n",
    "        \"¿Qué es la distilación de modelos?\"\n",
    "    ],\n",
    "    \"Respuesta\": [\n",
    "        \"Modelos basados en transformadores para procesar y generar lenguaje natural.\",\n",
    "        \"Un marco para gestionar el ciclo de vida de aplicaciones basadas en LLMs.\",\n",
    "        \"Ahorran recursos al adaptarse a tareas específicas con menos datos.\",\n",
    "        \"Costos, latencia, compatibilidad, privacidad y manejo de lenguajes ambiguos.\",\n",
    "        \"Predecir sin usar muestras de entrenamiento previas.\",\n",
    "        \"Evita olvidar tareas previas al cambiar pesos.\",\n",
    "        \"Calidad basada en alineación de texto generado y referencia.\",\n",
    "        \"Transferir conocimientos a un modelo optimizado.\"\n",
    "    ]\n",
    "}\n",
    "\n",
    "# Crear un DataFrame y guardar en un archivo Excel\n",
    "df_questions = pd.DataFrame(questions_answers)\n",
    "df_questions.to_excel(\"preguntas_respuestas.xlsx\", index=False)\n",
    "print(\"Archivo 'preguntas_respuestas.xlsx' generado con éxito.\")\n"
   ]
  },
  {
   "cell_type": "markdown",
   "id": "f317d5ec",
   "metadata": {},
   "source": [
    "## EMBEDDINGS PARA EL VECTOR STORE"
   ]
  },
  {
   "cell_type": "code",
   "execution_count": 9,
   "id": "7ef696f2",
   "metadata": {},
   "outputs": [],
   "source": [
    "from openai import OpenAI\n",
    "import numpy as np\n",
    "import pandas as pd\n",
    "import json\n",
    "\n",
    "file_name = open('credentials.json')\n",
    "config_env = json.load(file_name)\n",
    "api_key = config_env[\"openai_key\"]\n",
    "client = OpenAI(api_key=api_key)"
   ]
  },
  {
   "cell_type": "code",
   "execution_count": null,
   "id": "b164ce94",
   "metadata": {},
   "outputs": [],
   "source": [
    "# Función para generar embeddings\n",
    "def text_embedding(text=[]):\n",
    "    embeddings = client.embeddings.create(model=\"text-embedding-ada-002\", input=text,encoding_format=\"float\")\n",
    "    return embeddings.data[0].embedding\n",
    "\n",
    "# Calcular embeddings para el Vector Store\n",
    "df_vector_store[\"Embedding\"] = df_vector_store[\"Chunks\"].apply(lambda x: text_embedding([x]))\n",
    "df_vector_store[\"Embedding\"] = df_vector_store[\"Embedding\"].apply(np.array)\n",
    "\n",
    "# Guardar el DataFrame 'df_vector_store' en un pkl\n",
    "df_vector_store.to_pickle('df_vector_store.pkl')\n",
    "df_vector_store.head()"
   ]
  },
  {
   "cell_type": "code",
   "execution_count": 105,
   "id": "9ed10b85",
   "metadata": {},
   "outputs": [
    {
     "data": {
      "text/html": [
       "<div>\n",
       "<style scoped>\n",
       "    .dataframe tbody tr th:only-of-type {\n",
       "        vertical-align: middle;\n",
       "    }\n",
       "\n",
       "    .dataframe tbody tr th {\n",
       "        vertical-align: top;\n",
       "    }\n",
       "\n",
       "    .dataframe thead th {\n",
       "        text-align: right;\n",
       "    }\n",
       "</style>\n",
       "<table border=\"1\" class=\"dataframe\">\n",
       "  <thead>\n",
       "    <tr style=\"text-align: right;\">\n",
       "      <th></th>\n",
       "      <th>Pregunta</th>\n",
       "      <th>Respuesta</th>\n",
       "    </tr>\n",
       "  </thead>\n",
       "  <tbody>\n",
       "    <tr>\n",
       "      <th>0</th>\n",
       "      <td>¿Qué son los LLMs?</td>\n",
       "      <td>Modelos basados en transformadores para proces...</td>\n",
       "    </tr>\n",
       "    <tr>\n",
       "      <th>1</th>\n",
       "      <td>¿Qué es LLMOps?</td>\n",
       "      <td>Un marco para gestionar el ciclo de vida de ap...</td>\n",
       "    </tr>\n",
       "    <tr>\n",
       "      <th>2</th>\n",
       "      <td>¿Por qué usar modelos preentrenados?</td>\n",
       "      <td>Ahorran recursos al adaptarse a tareas específ...</td>\n",
       "    </tr>\n",
       "    <tr>\n",
       "      <th>3</th>\n",
       "      <td>¿Qué retos enfrenta el uso de LLMs?</td>\n",
       "      <td>Costos, latencia, compatibilidad, privacidad y...</td>\n",
       "    </tr>\n",
       "    <tr>\n",
       "      <th>4</th>\n",
       "      <td>¿Qué es el aprendizaje cero disparos (ZSL)?</td>\n",
       "      <td>Predecir sin usar muestras de entrenamiento pr...</td>\n",
       "    </tr>\n",
       "  </tbody>\n",
       "</table>\n",
       "</div>"
      ],
      "text/plain": [
       "                                      Pregunta  \\\n",
       "0                           ¿Qué son los LLMs?   \n",
       "1                              ¿Qué es LLMOps?   \n",
       "2         ¿Por qué usar modelos preentrenados?   \n",
       "3          ¿Qué retos enfrenta el uso de LLMs?   \n",
       "4  ¿Qué es el aprendizaje cero disparos (ZSL)?   \n",
       "\n",
       "                                           Respuesta  \n",
       "0  Modelos basados en transformadores para proces...  \n",
       "1  Un marco para gestionar el ciclo de vida de ap...  \n",
       "2  Ahorran recursos al adaptarse a tareas específ...  \n",
       "3  Costos, latencia, compatibilidad, privacidad y...  \n",
       "4  Predecir sin usar muestras de entrenamiento pr...  "
      ]
     },
     "execution_count": 105,
     "metadata": {},
     "output_type": "execute_result"
    }
   ],
   "source": [
    "df_questions = pd.DataFrame(questions_answers)\n",
    "df_questions.to_excel(\"preguntas_respuestas.xlsx\", index=False)\n",
    "df_questions.head()"
   ]
  },
  {
   "cell_type": "markdown",
   "id": "6dd4795d",
   "metadata": {},
   "source": [
    "## CONTEXTO"
   ]
  },
  {
   "cell_type": "code",
   "execution_count": 11,
   "id": "636c23bf",
   "metadata": {},
   "outputs": [],
   "source": [
    "from sklearn.metrics.pairwise import cosine_similarity\n",
    "\n",
    "def get_context_from_query(query, vector_store, n_chunks=5):\n",
    "    # Obtener el embedding de la pregunta\n",
    "    query_embedding = np.array(text_embedding([query]))  # Generar el embedding para la pregunta\n",
    "    # Calcular similitud de coseno entre la pregunta y los chunks en el vector store\n",
    "    vector_store['CosineSimilarity'] = vector_store['Embedding'].apply(\n",
    "        lambda x: cosine_similarity([x], [query_embedding])[0][0]\n",
    "    )\n",
    "\n",
    "    top_matches = vector_store.sort_values(by='CosineSimilarity', ascending=False).head(n_chunks)\n",
    "    context_list = top_matches['Chunks'].tolist()  # Extraer los textos más relevantes\n",
    "    return context_list\n"
   ]
  },
  {
   "cell_type": "markdown",
   "id": "249d93d4",
   "metadata": {},
   "source": [
    "## RESPUESTAS DEL CHATBOT"
   ]
  },
  {
   "cell_type": "code",
   "execution_count": 10,
   "id": "6ef48277",
   "metadata": {},
   "outputs": [],
   "source": [
    "def generar_respuesta_gpt4(query, context_list):\n",
    "    # Crear el prompt para el modelo GPT-4 con el contexto y la pregunta\n",
    "    custom_prompt = f\"\"\"\n",
    "    Eres una Inteligencia Artificial avanzada.\n",
    "    Utiliza los siguientes fragmentos de texto para responder la pregunta de manera precisa:\n",
    "\n",
    "    CONTEXTO:\n",
    "    {str(context_list)}\n",
    "\n",
    "    PREGUNTA:\n",
    "    {query}\n",
    "\n",
    "    Responde de forma breve y clara.\n",
    "    \"\"\"\n",
    "    \n",
    "    # Llamar a GPT-4 para obtener la respuesta\n",
    "    completion = client.chat.completions.create(\n",
    "        model=\"gpt-4\",\n",
    "        temperature=0.0,\n",
    "        messages=[\n",
    "            {\"role\": \"system\", \"content\": custom_prompt},\n",
    "            {\"role\": \"user\", \"content\": query}\n",
    "        ]\n",
    "    )\n",
    "    \n",
    "    # Obtener la respuesta generada\n",
    "    return completion.choices[0].message.content"
   ]
  },
  {
   "cell_type": "markdown",
   "id": "7f3c1e33",
   "metadata": {},
   "source": [
    "## SIMILITUD DEL COSENO"
   ]
  },
  {
   "cell_type": "code",
   "execution_count": 108,
   "id": "ed6d8442",
   "metadata": {},
   "outputs": [],
   "source": [
    "def calcular_similitud(respuesta_generada, respuesta_propuesta):\n",
    "    # Obtener los embeddings de las respuestas generadas y propuestas\n",
    "    emb_chat = np.array(text_embedding([respuesta_generada])).reshape(1, -1)  # Embedding de la respuesta generada\n",
    "    emb_propuesta = np.array(text_embedding([respuesta_propuesta])).reshape(1, -1)  # Embedding de la respuesta propuesta\n",
    "    \n",
    "    # Calcular la similitud de coseno\n",
    "    similitud = cosine_similarity(emb_propuesta, emb_chat)[0][0]\n",
    "    return similitud"
   ]
  },
  {
   "cell_type": "markdown",
   "id": "0a205b4e",
   "metadata": {},
   "source": [
    "## ACCURACY"
   ]
  },
  {
   "cell_type": "code",
   "execution_count": null,
   "id": "88fc983f",
   "metadata": {},
   "outputs": [
    {
     "name": "stdout",
     "output_type": "stream",
     "text": [
      "Accuracy del chatbot: 87.50%\n"
     ]
    }
   ],
   "source": [
    "# Lista para almacenar los resultados de similitud\n",
    "similitudes = []\n",
    "\n",
    "# Iterar sobre todas las preguntas y calcular la similitud\n",
    "for i in range(len(df_questions)):\n",
    "    query = df_questions['Pregunta'][i]  # Obtener la pregunta actual\n",
    "    respuesta_propuesta = df_questions['Respuesta'][i]  # Obtener la respuesta propuesta\n",
    "    \n",
    "    # Obtener el contexto relevante para la pregunta\n",
    "    context_list = get_context_from_query(query, df_vector_store, n_chunks=5)\n",
    "    \n",
    "    # Generar la respuesta con GPT-4\n",
    "    resp_chatbot = generar_respuesta_gpt4(query, context_list)\n",
    "    \n",
    "    # Calcular la similitud de coseno\n",
    "    similitud = calcular_similitud(resp_chatbot, respuesta_propuesta)\n",
    "    \n",
    "    # Almacenar la similitud\n",
    "    similitudes.append(similitud)\n",
    "\n",
    "# Añadir la similitudes al DataFrame\n",
    "df_questions['Similitud'] = similitudes\n",
    "\n",
    "# Calcular el accuracy\n",
    "threshold = 0.8  # Umbral de similitud\n",
    "df_questions['Correcta'] = df_questions['Similitud'] >= threshold\n",
    "accuracy = df_questions['Correcta'].mean()\n",
    "print(f\"Accuracy del chatbot: {accuracy:.2%}\")\n"
   ]
  },
  {
   "cell_type": "code",
   "execution_count": 115,
   "id": "f31629e0",
   "metadata": {},
   "outputs": [
    {
     "data": {
      "text/html": [
       "<div>\n",
       "<style scoped>\n",
       "    .dataframe tbody tr th:only-of-type {\n",
       "        vertical-align: middle;\n",
       "    }\n",
       "\n",
       "    .dataframe tbody tr th {\n",
       "        vertical-align: top;\n",
       "    }\n",
       "\n",
       "    .dataframe thead th {\n",
       "        text-align: right;\n",
       "    }\n",
       "</style>\n",
       "<table border=\"1\" class=\"dataframe\">\n",
       "  <thead>\n",
       "    <tr style=\"text-align: right;\">\n",
       "      <th></th>\n",
       "      <th>Pregunta</th>\n",
       "      <th>Respuesta</th>\n",
       "      <th>Similitud</th>\n",
       "      <th>Correcta</th>\n",
       "    </tr>\n",
       "  </thead>\n",
       "  <tbody>\n",
       "    <tr>\n",
       "      <th>0</th>\n",
       "      <td>¿Qué son los LLMs?</td>\n",
       "      <td>Modelos basados en transformadores para proces...</td>\n",
       "      <td>0.878320</td>\n",
       "      <td>True</td>\n",
       "    </tr>\n",
       "    <tr>\n",
       "      <th>1</th>\n",
       "      <td>¿Qué es LLMOps?</td>\n",
       "      <td>Un marco para gestionar el ciclo de vida de ap...</td>\n",
       "      <td>0.831480</td>\n",
       "      <td>True</td>\n",
       "    </tr>\n",
       "    <tr>\n",
       "      <th>2</th>\n",
       "      <td>¿Por qué usar modelos preentrenados?</td>\n",
       "      <td>Ahorran recursos al adaptarse a tareas específ...</td>\n",
       "      <td>0.830761</td>\n",
       "      <td>True</td>\n",
       "    </tr>\n",
       "    <tr>\n",
       "      <th>3</th>\n",
       "      <td>¿Qué retos enfrenta el uso de LLMs?</td>\n",
       "      <td>Costos, latencia, compatibilidad, privacidad y...</td>\n",
       "      <td>0.865407</td>\n",
       "      <td>True</td>\n",
       "    </tr>\n",
       "    <tr>\n",
       "      <th>4</th>\n",
       "      <td>¿Qué es el aprendizaje cero disparos (ZSL)?</td>\n",
       "      <td>Predecir sin usar muestras de entrenamiento pr...</td>\n",
       "      <td>0.824796</td>\n",
       "      <td>True</td>\n",
       "    </tr>\n",
       "  </tbody>\n",
       "</table>\n",
       "</div>"
      ],
      "text/plain": [
       "                                      Pregunta  \\\n",
       "0                           ¿Qué son los LLMs?   \n",
       "1                              ¿Qué es LLMOps?   \n",
       "2         ¿Por qué usar modelos preentrenados?   \n",
       "3          ¿Qué retos enfrenta el uso de LLMs?   \n",
       "4  ¿Qué es el aprendizaje cero disparos (ZSL)?   \n",
       "\n",
       "                                           Respuesta  Similitud  Correcta  \n",
       "0  Modelos basados en transformadores para proces...   0.878320      True  \n",
       "1  Un marco para gestionar el ciclo de vida de ap...   0.831480      True  \n",
       "2  Ahorran recursos al adaptarse a tareas específ...   0.830761      True  \n",
       "3  Costos, latencia, compatibilidad, privacidad y...   0.865407      True  \n",
       "4  Predecir sin usar muestras de entrenamiento pr...   0.824796      True  "
      ]
     },
     "execution_count": 115,
     "metadata": {},
     "output_type": "execute_result"
    }
   ],
   "source": [
    "df_questions.head()\n"
   ]
  },
  {
   "cell_type": "markdown",
   "id": "2d3f6b4d",
   "metadata": {},
   "source": [
    "## GRÁFICO ACCURACY"
   ]
  },
  {
   "cell_type": "code",
   "execution_count": null,
   "id": "7e7c6ba8",
   "metadata": {},
   "outputs": [
    {
     "data": {
      "image/png": "[encoded data removed]",
      "text/plain": [
       "<Figure size 1000x600 with 1 Axes>"
      ]
     },
     "metadata": {},
     "output_type": "display_data"
    }
   ],
   "source": [
    "import matplotlib.pyplot as plt\n",
    "import numpy as np\n",
    "\n",
    "# Calcular la precisión acumulada\n",
    "accumulated_accuracy = df_questions['Correcta'].cumsum() / (df_questions.index + 1)\n",
    "\n",
    "# Graficar la distribución acumulada\n",
    "plt.figure(figsize=(10, 6))\n",
    "plt.plot(df_questions.index + 1, accumulated_accuracy, marker='o', linestyle='-', color='b')\n",
    "plt.title('Distribución Acumulada de Accuracy')\n",
    "plt.xlabel('Número de Respuestas Evaluadas')\n",
    "plt.ylabel('Accuracy Acumulado')\n",
    "plt.grid(True)\n",
    "plt.show()\n"
   ]
  }
 ],
 "metadata": {
  "kernelspec": {
   "display_name": "my_env",
   "language": "python",
   "name": "python3"
  },
  "language_info": {
   "codemirror_mode": {
    "name": "ipython",
    "version": 3
   },
   "file_extension": ".py",
   "mimetype": "text/x-python",
   "name": "python",
   "nbconvert_exporter": "python",
   "pygments_lexer": "ipython3",
   "version": "3.10.11"
  }
 },
 "nbformat": 4,
 "nbformat_minor": 5
}
